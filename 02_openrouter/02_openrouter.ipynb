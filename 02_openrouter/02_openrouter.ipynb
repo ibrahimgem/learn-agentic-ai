{
  "cells": [
    {
      "cell_type": "markdown",
      "metadata": {
        "id": "nsm8m30IRF92"
      },
      "source": [
        "# Install OpenAI Agents Dep."
      ]
    },
    {
      "cell_type": "code",
      "execution_count": 1,
      "metadata": {
        "colab": {
          "base_uri": "https://localhost:8080/"
        },
        "id": "JuuPsMIfQm-p",
        "outputId": "4009632a-74df-42ba-fbef-d6b526a6af69"
      },
      "outputs": [
        {
          "name": "stdout",
          "output_type": "stream",
          "text": [
            "zsh:1: command not found: pip\n"
          ]
        }
      ],
      "source": [
        "!pip install -Uq openai-agents"
      ]
    },
    {
      "cell_type": "code",
      "execution_count": 2,
      "metadata": {
        "id": "Bggyu-m6RzWK"
      },
      "outputs": [],
      "source": [
        "import nest_asyncio\n",
        "nest_asyncio.apply()"
      ]
    },
    {
      "cell_type": "markdown",
      "metadata": {
        "id": "_ctd7c1bR9jQ"
      },
      "source": [
        "# Provider Config"
      ]
    },
    {
      "cell_type": "code",
      "execution_count": null,
      "metadata": {
        "id": "XhJPMxxHSKmA"
      },
      "outputs": [
        {
          "ename": "ModuleNotFoundError",
          "evalue": "No module named 'dotenv'",
          "output_type": "error",
          "traceback": [
            "\u001b[0;31m---------------------------------------------------------------------------\u001b[0m",
            "\u001b[0;31mModuleNotFoundError\u001b[0m                       Traceback (most recent call last)",
            "Cell \u001b[0;32mIn[8], line 1\u001b[0m\n\u001b[0;32m----> 1\u001b[0m \u001b[38;5;28;01mfrom\u001b[39;00m\u001b[38;5;250m \u001b[39m\u001b[38;5;21;01mdotenv\u001b[39;00m\u001b[38;5;250m \u001b[39m\u001b[38;5;28;01mimport\u001b[39;00m load_dotenv\n\u001b[1;32m      2\u001b[0m \u001b[38;5;28;01mimport\u001b[39;00m\u001b[38;5;250m \u001b[39m\u001b[38;5;21;01mos\u001b[39;00m\n\u001b[1;32m      4\u001b[0m load_dotenv()\n",
            "\u001b[0;31mModuleNotFoundError\u001b[0m: No module named 'dotenv'"
          ]
        }
      ],
      "source": [
        "from google.colab import userdata\n",
        "\n",
        "OPENROUTER_API_KEY = userdata.get(\"OPENROUTER_API_KEY\")"
      ]
    },
    {
      "cell_type": "code",
      "execution_count": null,
      "metadata": {
        "id": "wySsSKO6SWxw"
      },
      "outputs": [],
      "source": [
        "#Reference: https://openrouter.ai/docs/quickstart\n",
        "\n",
        "BASE_URL = \"https://openrouter.ai/api/v1\"\n",
        "MODEL = \"deepseek/deepseek-r1-0528-qwen3-8b:free\"\n",
        "\n",
        "# Some other free models on 26th March:\n",
        "# https://openrouter.ai/deepseek/deepseek-chat-v3-0324:free\n",
        "# https://openrouter.ai/google/gemini-2.5-pro-exp-03-25:free"
      ]
    },
    {
      "cell_type": "markdown",
      "metadata": {
        "id": "qo7hLJVoSwfE"
      },
      "source": [
        "# 1. Using the OpenRouter API directly\n"
      ]
    },
    {
      "cell_type": "code",
      "execution_count": null,
      "metadata": {
        "colab": {
          "base_uri": "https://localhost:8080/"
        },
        "id": "tyxzK54LTBm5",
        "outputId": "aadde214-f964-4bc3-dc0f-3be1ed8ee91e"
      },
      "outputs": [
        {
          "name": "stdout",
          "output_type": "stream",
          "text": [
            "{'id': 'gen-1748795668-BtMeBrCCoItGN9gSTSiQ', 'provider': 'Chutes', 'model': 'deepseek/deepseek-r1-0528-qwen3-8b:free', 'object': 'chat.completion', 'created': 1748795668, 'choices': [{'logprobs': None, 'finish_reason': 'stop', 'native_finish_reason': 'stop', 'index': 0, 'message': {'role': 'assistant', 'content': 'The meaning of life is one of the most profound and complex questions ever asked, and different people—across cultures, philosophies, and spiritual traditions—have varied and often deeply personal answers.\\n\\nHere are some common interpretations:\\n\\n1.  **Existentialist View (Camus):** Life has no inherent, objective meaning. We are born into a universe indifferent or even hostile to us, lacking a predetermined purpose (The Absurd). However, this realization doesn\\'t negate life; instead, we *create* our own meaning through our choices, actions, passions, and commitments, even in a world that offers none.\\n\\n2.  **Hedonistic View:** The meaning of life is to seek pleasure and avoid pain. Live each moment to the fullest, enjoy the good things in life.\\n\\n3.  **Eudaimonic/Humanistic View:** Focus on living virtuously, cultivating human potential, and flourishing. Find meaning through self-actualization, contributing to the well-being of others, engaging fully in life, building strong relationships, learning, creating, and achieving personal growth. Think Maslow\\'s hierarchy of needs reaching the top.\\n\\n4.  **Religious/Spiritual View:** Life\\'s meaning is to fulfill God\\'s (or the universe\\'s/dharma\\'s) plan or commandments. It often involves living righteously, achieving spiritual enlightenment or union with the divine, and preparing for an afterlife.\\n\\n5.  **Biological View:** At a fundamental level, the meaning or objective of life (in the biological sense) is to replicate and continue the species through survival, procreation, and passing on genes. However, this is often seen as more of a *function* rather than a *meaning*.\\n\\n6.  **Utilitarian View:** To maximize happiness or well-being (for oneself or for the greatest number) by living a life of contribution and usefulness to oneself and humanity.\\n\\n7.  **Absurd Artifacts/Pop Culture View:** *D\\'oh!* Sometimes, meaning is simply waiting to \"find\" your passion or living a normal life.\\n\\n### Key Takeaway\\n\\nThere is no single, universally accepted, *objective* answer. The meaning of life is often something individuals must discover or create for themselves.\\n\\nFor many, meaning is found in a combination of factors: connection with others, contribution to a cause greater than oneself, engaging with one\\'s passions, acts of compassion, experiencing joy and beauty, navigating challenges, raising children, building a community...\\n\\nUltimately, asking \"What is the meaning of life?\" is a central part of the human condition, a question we grapple with throughout history and personal experience.', 'refusal': None, 'reasoning': 'Hmm, \"What is the meaning of life?\" This is such a classic question that gets asked over and over again. It\\'s also quite mind-bogglingly vast. \\n\\nOkay, let\\'s unpack this. The user asked a question, and I have to consider both the intellectual and emotional dimensions here. First off, I notice they didn\\'t put a period or question mark - just a direct statement. Maybe they\\'re typing quickly or scrolling through thoughts. \\n\\nThis is such a big one. The user is asking what many have pondered for centuries. I recall some key points to cover: the existentialist view (like Camus), philosophical angles, and science\\'s take. \\n\\nI should provide a balanced response. Maybe include Camus\\' perspective on absurdism? The universe lacks inherent meaning according to science, but that doesn\\'t stop life being meaningful. \\n\\nI can consider if there are deeper needs behind this question. Could the user be having an existential crisis? Or perhaps just curious after reading something philosophical? It\\'s one of those questions that feels deep but also seems shallow somehow. \\n\\nThe response should acknowledge the weight of the question with a slightly human tone. Keep it accessible while delivering accurate information about the philosophical and scientific perspectives. \\n\\nI wonder if the user wants practical advice or just intellectual exploration. Since they just asked \"what\", I\\'ll provide comprehensive information without being too prescriptive. The key is to show this has many legitimate answers.\\n\\nThe user might be feeling uncertain about life\\'s direction. This question often arises during transitional periods. Smart to address both the big picture and tiny details like raising children - small moments that give life texture.\\n\\nBalancing abstract ideas with concrete examples will probably help. Mentioning things like art and relationships shows how meaning can be created in daily life. Avoid being too preachy about this. The user should feel heard, not lectured.\\n\\nBasic human condition\" - that encapsulates it well. This isn\\'t about finding a single answer, but exploring a question that keeps arising in human consciousness. That\\'s probably the core of what the user is looking for - not certainty, but perspective.\\n\\nThe phrasing should be direct and thoughtful. Emphasize that absolute answers are elusive but the journey matters more. \\n\\nBetter wrap this up before they ask version 13 of \"what is life\\'s meaning\"...\\n'}}], 'usage': {'prompt_tokens': 12, 'completion_tokens': 1013, 'total_tokens': 1025}}\n"
          ]
        }
      ],
      "source": [
        "import requests\n",
        "import json\n",
        "\n",
        "response = requests.post(\n",
        "  url=f\"{BASE_URL}/chat/completions\",\n",
        "  headers={\n",
        "    \"Authorization\": f\"Bearer {OPENROUTER_API_KEY}\",\n",
        "  },\n",
        "  data=json.dumps({\n",
        "    \"model\": MODEL,\n",
        "    \"messages\": [\n",
        "      {\n",
        "        \"role\": \"user\",\n",
        "        \"content\": \"What is the meaning of life?\"\n",
        "      }\n",
        "    ]\n",
        "  })\n",
        ")\n",
        "\n",
        "print(response.json())\n"
      ]
    },
    {
      "cell_type": "code",
      "execution_count": null,
      "metadata": {
        "colab": {
          "base_uri": "https://localhost:8080/",
          "height": 137
        },
        "id": "hjp-c6OSXAJv",
        "outputId": "0152ff35-06af-4fa5-b27a-257ffd558cb2"
      },
      "outputs": [
        {
          "data": {
            "application/vnd.google.colaboratory.intrinsic+json": {
              "type": "string"
            },
            "text/plain": [
              "'The meaning of life is one of the most profound and complex questions ever asked, and different people—across cultures, philosophies, and spiritual traditions—have varied and often deeply personal answers.\\n\\nHere are some common interpretations:\\n\\n1.  **Existentialist View (Camus):** Life has no inherent, objective meaning. We are born into a universe indifferent or even hostile to us, lacking a predetermined purpose (The Absurd). However, this realization doesn\\'t negate life; instead, we *create* our own meaning through our choices, actions, passions, and commitments, even in a world that offers none.\\n\\n2.  **Hedonistic View:** The meaning of life is to seek pleasure and avoid pain. Live each moment to the fullest, enjoy the good things in life.\\n\\n3.  **Eudaimonic/Humanistic View:** Focus on living virtuously, cultivating human potential, and flourishing. Find meaning through self-actualization, contributing to the well-being of others, engaging fully in life, building strong relationships, learning, creating, and achieving personal growth. Think Maslow\\'s hierarchy of needs reaching the top.\\n\\n4.  **Religious/Spiritual View:** Life\\'s meaning is to fulfill God\\'s (or the universe\\'s/dharma\\'s) plan or commandments. It often involves living righteously, achieving spiritual enlightenment or union with the divine, and preparing for an afterlife.\\n\\n5.  **Biological View:** At a fundamental level, the meaning or objective of life (in the biological sense) is to replicate and continue the species through survival, procreation, and passing on genes. However, this is often seen as more of a *function* rather than a *meaning*.\\n\\n6.  **Utilitarian View:** To maximize happiness or well-being (for oneself or for the greatest number) by living a life of contribution and usefulness to oneself and humanity.\\n\\n7.  **Absurd Artifacts/Pop Culture View:** *D\\'oh!* Sometimes, meaning is simply waiting to \"find\" your passion or living a normal life.\\n\\n### Key Takeaway\\n\\nThere is no single, universally accepted, *objective* answer. The meaning of life is often something individuals must discover or create for themselves.\\n\\nFor many, meaning is found in a combination of factors: connection with others, contribution to a cause greater than oneself, engaging with one\\'s passions, acts of compassion, experiencing joy and beauty, navigating challenges, raising children, building a community...\\n\\nUltimately, asking \"What is the meaning of life?\" is a central part of the human condition, a question we grapple with throughout history and personal experience.'"
            ]
          },
          "execution_count": 22,
          "metadata": {},
          "output_type": "execute_result"
        }
      ],
      "source": [
        "data = response.json()\n",
        "data['choices'][0]['message']['content']"
      ]
    },
    {
      "cell_type": "markdown",
      "metadata": {
        "id": "Lboq-4muXmHQ"
      },
      "source": [
        "# 2. Using OpenAI Agents SDK"
      ]
    },
    {
      "cell_type": "code",
      "execution_count": null,
      "metadata": {
        "colab": {
          "base_uri": "https://localhost:8080/"
        },
        "id": "sVdBK0zyXm4Z",
        "outputId": "0cc6a541-c0ee-4ed2-f2e9-ecddbfdbc90e"
      },
      "outputs": [
        {
          "name": "stdout",
          "output_type": "stream",
          "text": [
            "Function self invokes,\n",
            "Through steps like falling leaves,\n",
            "Until small part remains.\n"
          ]
        }
      ],
      "source": [
        "import asyncio\n",
        "from openai import AsyncOpenAI\n",
        "from agents import Agent, OpenAIChatCompletionsModel, Runner, set_tracing_disabled\n",
        "\n",
        "client = AsyncOpenAI(\n",
        "    api_key=OPENROUTER_API_KEY,\n",
        "    base_url=BASE_URL\n",
        ")\n",
        "\n",
        "set_tracing_disabled(disabled=True)\n",
        "\n",
        "async def main():\n",
        "    # This agent will use the custom LLM provider\n",
        "    agent = Agent(\n",
        "        name=\"Assistant\",\n",
        "        instructions=\"You only respond in haikus.\",\n",
        "        model=OpenAIChatCompletionsModel(model=MODEL, openai_client=client),\n",
        "    )\n",
        "\n",
        "    result = await Runner.run(\n",
        "        agent,\n",
        "        \"Tell me about recursion in programming.\",\n",
        "    )\n",
        "    print(result.final_output)\n",
        "\n",
        "\n",
        "if __name__ == \"__main__\":\n",
        "    asyncio.run(main())"
      ]
    }
  ],
  "metadata": {
    "colab": {
      "provenance": []
    },
    "kernelspec": {
      "display_name": "Python 3",
      "name": "python3"
    },
    "language_info": {
      "codemirror_mode": {
        "name": "ipython",
        "version": 3
      },
      "file_extension": ".py",
      "mimetype": "text/x-python",
      "name": "python",
      "nbconvert_exporter": "python",
      "pygments_lexer": "ipython3",
      "version": "3.9.6"
    }
  },
  "nbformat": 4,
  "nbformat_minor": 0
}
